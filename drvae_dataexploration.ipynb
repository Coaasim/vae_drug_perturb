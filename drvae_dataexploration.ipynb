{
 "cells": [
  {
   "cell_type": "code",
   "execution_count": 1,
   "metadata": {},
   "outputs": [],
   "source": [
    "import numpy as np\n",
    "import pandas as pd\n",
    "import scanpy as sc\n",
    "import h5py\n",
    "\n",
    "# file = h5py.File('C:/Users/Katerchen/Documents/Code/master_thesis/DrVAE-master/workspace/datafiles/CTRPv2+L1000_FDAdrugs6h_v2.1.h5', 'r')\n",
    "# data = list(file.keys())"
   ]
  },
  {
   "cell_type": "code",
   "execution_count": 2,
   "metadata": {},
   "outputs": [],
   "source": [
    "def load_from_HDF(fname):\n",
    "    \"\"\"Load data from a HDF5 file to a dictionary.\"\"\"\n",
    "    data = dict()\n",
    "    with h5py.File(fname, 'r') as f:\n",
    "        for key in f:\n",
    "            data[key] = np.asarray(f[key])\n",
    "            if isinstance(data[key][0], np.bytes_):\n",
    "                data[key] = data[key].astype(str)\n",
    "            # print(key + \":\", f[key])\n",
    "    return data\n"
   ]
  },
  {
   "cell_type": "code",
   "execution_count": 3,
   "metadata": {},
   "outputs": [],
   "source": [
    "data_hdf = load_from_HDF('C:/Users/Katerchen/Documents/Code/master_thesis/DrVAE-master/workspace/datafiles/CTRPv2+L1000_FDAdrugs6h_v2.1.h5')"
   ]
  },
  {
   "cell_type": "code",
   "execution_count": 21,
   "metadata": {},
   "outputs": [
    {
     "data": {
      "text/plain": [
       "dict_keys(['drug_drug', 'drug_m', 'drug_threshold', 'labeled_pert_cellid', 'pair_cid', 'pair_conc', 'pair_drug', 'pair_dur', 'pair_m', 'pair_s', 'pair_tid', 'pair_x1', 'pair_x2', 'pair_y', 'pair_ycont', 'sing_cid', 'sing_s', 'sing_tid', 'sing_x1', 'sing_y', 'sing_ycont'])"
      ]
     },
     "execution_count": 21,
     "metadata": {},
     "output_type": "execute_result"
    }
   ],
   "source": [
    "data_hdf.keys()"
   ]
  },
  {
   "cell_type": "code",
   "execution_count": 45,
   "metadata": {},
   "outputs": [],
   "source": [
    "# Dictionary to store DataFrames\n",
    "dataframes_dict = {}\n",
    "\n",
    "# Iterate through the dictionary\n",
    "for key, value in data_hdf.items():\n",
    "    # Create a DataFrame from the dictionary value\n",
    "    df = pd.DataFrame(value)\n",
    "    \n",
    "    # Store the DataFrame in the dataframes_dict with the corresponding key\n",
    "    dataframes_dict[key] = df"
   ]
  },
  {
   "cell_type": "code",
   "execution_count": 49,
   "metadata": {},
   "outputs": [
    {
     "name": "stdout",
     "output_type": "stream",
     "text": [
      "drug_drug (46, 1)\n",
      "drug_m (46, 53)\n",
      "drug_threshold (46, 1)\n",
      "labeled_pert_cellid (52, 1)\n",
      "pair_cid (5377, 1)\n",
      "pair_conc (5377, 1)\n",
      "pair_drug (5377, 1)\n",
      "pair_dur (5377, 1)\n",
      "pair_m (5377, 53)\n",
      "pair_s (5377, 1)\n",
      "pair_tid (5377, 1)\n",
      "pair_x1 (5377, 973)\n",
      "pair_x2 (5377, 973)\n",
      "pair_y (5377, 1)\n",
      "pair_ycont (5377, 1)\n",
      "sing_cid (927, 1)\n",
      "sing_s (927, 1)\n",
      "sing_tid (927, 1)\n",
      "sing_x1 (927, 973)\n",
      "sing_y (927, 46)\n",
      "sing_ycont (927, 46)\n"
     ]
    }
   ],
   "source": [
    "# show shapes of the different dataframes in the dictionary\n",
    "for i in dataframes_dict:\n",
    "    print(i, dataframes_dict[i].shape)"
   ]
  },
  {
   "cell_type": "code",
   "execution_count": null,
   "metadata": {},
   "outputs": [],
   "source": [
    "# put drug_drug, drug_m and drug_threshold together\n",
    "\n",
    "drug_df = pd.DataFrame(columns=dataframes_dict['drug_drug'].columns)\n",
    "drug_df = drug_df.append(dataframes_dict['drug_drug'])"
   ]
  },
  {
   "cell_type": "code",
   "execution_count": null,
   "metadata": {},
   "outputs": [],
   "source": [
    "# combine pair_cid, pair_conc, pair_drug, pair_dur, pair_m, pair_s, pair_tid, pair_x1, pair_x2, pair_y, pair_ycont together in a dataframe\n",
    "pair_df = pd.DataFrame(columns=dataframes_dict['pair_cid'].columns)\n",
    "\n",
    "for i in dataframes_dict:\n",
    "    if i.startswith('pair'):\n",
    "        pair_df = pair_df.append(dataframes_dict[i])\n",
    "        \n",
    "pair_df.shape"
   ]
  },
  {
   "cell_type": "code",
   "execution_count": null,
   "metadata": {},
   "outputs": [],
   "source": [
    "sing_df = pd.DataFrame(columns=dataframes_dict['sing_cid'].columns)\n",
    "\n",
    "for i in dataframes_dict:\n",
    "    if i.startswith('sing'):\n",
    "        sing_df = sing_df.append(dataframes_dict[i])\n",
    "        \n",
    "sing_df.shape"
   ]
  }
 ],
 "metadata": {
  "kernelspec": {
   "display_name": "base",
   "language": "python",
   "name": "python3"
  },
  "language_info": {
   "codemirror_mode": {
    "name": "ipython",
    "version": 3
   },
   "file_extension": ".py",
   "mimetype": "text/x-python",
   "name": "python",
   "nbconvert_exporter": "python",
   "pygments_lexer": "ipython3",
   "version": "3.11.5"
  },
  "orig_nbformat": 4
 },
 "nbformat": 4,
 "nbformat_minor": 2
}
