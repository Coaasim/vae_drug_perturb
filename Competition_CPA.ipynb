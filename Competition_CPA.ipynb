{
 "cells": [
  {
   "cell_type": "code",
   "execution_count": 11,
   "metadata": {},
   "outputs": [],
   "source": [
    "import os\n",
    "import cpa\n",
    "import scanpy as sc\n",
    "import pandas as pd"
   ]
  },
  {
   "cell_type": "code",
   "execution_count": 12,
   "metadata": {},
   "outputs": [],
   "source": [
    "sc.settings.set_figure_params(dpi=100)"
   ]
  },
  {
   "cell_type": "code",
   "execution_count": 13,
   "metadata": {},
   "outputs": [
    {
     "data": {
      "text/html": [
       "<div>\n",
       "<style scoped>\n",
       "    .dataframe tbody tr th:only-of-type {\n",
       "        vertical-align: middle;\n",
       "    }\n",
       "\n",
       "    .dataframe tbody tr th {\n",
       "        vertical-align: top;\n",
       "    }\n",
       "\n",
       "    .dataframe thead th {\n",
       "        text-align: right;\n",
       "    }\n",
       "</style>\n",
       "<table border=\"1\" class=\"dataframe\">\n",
       "  <thead>\n",
       "    <tr style=\"text-align: right;\">\n",
       "      <th></th>\n",
       "      <th>cell_type</th>\n",
       "      <th>sm_name</th>\n",
       "      <th>sm_lincs_id</th>\n",
       "      <th>SMILES</th>\n",
       "      <th>control</th>\n",
       "    </tr>\n",
       "  </thead>\n",
       "  <tbody>\n",
       "    <tr>\n",
       "      <th>0</th>\n",
       "      <td>NK cells</td>\n",
       "      <td>Clotrimazole</td>\n",
       "      <td>LSM-5341</td>\n",
       "      <td>Clc1ccccc1C(c1ccccc1)(c1ccccc1)n1ccnc1</td>\n",
       "      <td>False</td>\n",
       "    </tr>\n",
       "    <tr>\n",
       "      <th>1</th>\n",
       "      <td>T cells CD4+</td>\n",
       "      <td>Clotrimazole</td>\n",
       "      <td>LSM-5341</td>\n",
       "      <td>Clc1ccccc1C(c1ccccc1)(c1ccccc1)n1ccnc1</td>\n",
       "      <td>False</td>\n",
       "    </tr>\n",
       "    <tr>\n",
       "      <th>2</th>\n",
       "      <td>T cells CD8+</td>\n",
       "      <td>Clotrimazole</td>\n",
       "      <td>LSM-5341</td>\n",
       "      <td>Clc1ccccc1C(c1ccccc1)(c1ccccc1)n1ccnc1</td>\n",
       "      <td>False</td>\n",
       "    </tr>\n",
       "    <tr>\n",
       "      <th>3</th>\n",
       "      <td>T regulatory cells</td>\n",
       "      <td>Clotrimazole</td>\n",
       "      <td>LSM-5341</td>\n",
       "      <td>Clc1ccccc1C(c1ccccc1)(c1ccccc1)n1ccnc1</td>\n",
       "      <td>False</td>\n",
       "    </tr>\n",
       "    <tr>\n",
       "      <th>4</th>\n",
       "      <td>NK cells</td>\n",
       "      <td>Mometasone Furoate</td>\n",
       "      <td>LSM-3349</td>\n",
       "      <td>C[C@@H]1C[C@H]2[C@@H]3CCC4=CC(=O)C=C[C@]4(C)[C...</td>\n",
       "      <td>False</td>\n",
       "    </tr>\n",
       "  </tbody>\n",
       "</table>\n",
       "</div>"
      ],
      "text/plain": [
       "            cell_type             sm_name sm_lincs_id  \\\n",
       "0            NK cells        Clotrimazole    LSM-5341   \n",
       "1        T cells CD4+        Clotrimazole    LSM-5341   \n",
       "2        T cells CD8+        Clotrimazole    LSM-5341   \n",
       "3  T regulatory cells        Clotrimazole    LSM-5341   \n",
       "4            NK cells  Mometasone Furoate    LSM-3349   \n",
       "\n",
       "                                              SMILES  control  \n",
       "0             Clc1ccccc1C(c1ccccc1)(c1ccccc1)n1ccnc1    False  \n",
       "1             Clc1ccccc1C(c1ccccc1)(c1ccccc1)n1ccnc1    False  \n",
       "2             Clc1ccccc1C(c1ccccc1)(c1ccccc1)n1ccnc1    False  \n",
       "3             Clc1ccccc1C(c1ccccc1)(c1ccccc1)n1ccnc1    False  \n",
       "4  C[C@@H]1C[C@H]2[C@@H]3CCC4=CC(=O)C=C[C@]4(C)[C...    False  "
      ]
     },
     "execution_count": 13,
     "metadata": {},
     "output_type": "execute_result"
    }
   ],
   "source": [
    "path = \"/home/katerchen/Code/data/open-problems-single-cell-perturbations/\"\n",
    "adata_obs = pd.read_csv(path + \"adata_obs_meta.csv\")\n",
    "id_map = pd.read_csv(path + \"id_map.csv\")\n",
    "multiome_obs_meta = pd.read_csv(path + \"multiome_obs_meta.csv\")\n",
    "multiome_var_meta = pd.read_csv(path + \"multiome_var_meta.csv\")\n",
    "\n",
    "de_train = pd.read_parquet(path + \"de_train.parquet\")\n",
    "\n",
    "de_train_meta = de_train.iloc[:, :5]\n",
    "\n",
    "de_train_exp = de_train.drop(columns = [\"cell_type\", \"sm_name\", \"sm_lincs_id\", \"SMILES\", \"control\"])\n",
    "\n",
    "de_train_meta.head()"
   ]
  },
  {
   "cell_type": "markdown",
   "metadata": {},
   "source": [
    "Next, we just replace `de_train_exp.X` with raw counts to be able to train CPA with Negative Binomial (aka NB) loss."
   ]
  },
  {
   "cell_type": "code",
   "execution_count": 14,
   "metadata": {},
   "outputs": [],
   "source": [
    "# turn de_train_exp into scanpy object\n",
    "# adata = sc.AnnData(de_train_exp)\n",
    "# adata.obs = de_train_meta"
   ]
  },
  {
   "cell_type": "code",
   "execution_count": null,
   "metadata": {},
   "outputs": [],
   "source": [
    "adata = pd.read_parquet(path + \"adata_train.parquet\")"
   ]
  },
  {
   "cell_type": "code",
   "execution_count": 15,
   "metadata": {},
   "outputs": [
    {
     "data": {
      "text/plain": [
       "array([[ 0.10472047, -0.07752421, -1.62559604, ...,  0.03412678,\n",
       "         0.22137655,  0.36875538],\n",
       "       [ 0.91595324, -0.88438038,  0.37183448, ...,  0.70477983,\n",
       "         1.09670189, -0.86988664],\n",
       "       [-0.38772076, -0.30537826,  0.56777737, ...,  0.41576793,\n",
       "         0.07843919, -0.25936541],\n",
       "       ...,\n",
       "       [ 0.33816764, -0.10907872,  0.27018167, ..., -0.20907666,\n",
       "         0.38975144, -0.33708204],\n",
       "       [ 0.10113796, -0.40972434, -0.60629187, ..., -0.02968417,\n",
       "         0.00550565, -1.73311173],\n",
       "       [-0.75711627,  0.08591048, -0.73002496, ..., -0.60328012,\n",
       "        -0.09804148, -0.75068134]])"
      ]
     },
     "execution_count": 15,
     "metadata": {},
     "output_type": "execute_result"
    }
   ],
   "source": [
    "adata.X"
   ]
  },
  {
   "cell_type": "code",
   "execution_count": 16,
   "metadata": {},
   "outputs": [
    {
     "data": {
      "text/plain": [
       "cell_type\n",
       "NK cells              146\n",
       "T cells CD4+          146\n",
       "T regulatory cells    146\n",
       "T cells CD8+          142\n",
       "B cells                17\n",
       "Myeloid cells          17\n",
       "Name: count, dtype: int64"
      ]
     },
     "execution_count": 16,
     "metadata": {},
     "output_type": "execute_result"
    }
   ],
   "source": [
    "adata.obs['cell_type'].value_counts()"
   ]
  },
  {
   "cell_type": "code",
   "execution_count": 17,
   "metadata": {},
   "outputs": [],
   "source": [
    "# replace True with 'ctrl' and False with 'stimulated' in adata.obs['control']\n",
    "adata.obs['control'] = adata.obs['control'].replace([True, False], ['ctrl', 'stimulated'])"
   ]
  },
  {
   "cell_type": "code",
   "execution_count": 18,
   "metadata": {},
   "outputs": [],
   "source": [
    "# setting up dummy variable for dosage\n",
    "adata.obs['dose'] = adata.obs['control'].apply(lambda x: '+'.join(['1.0' for _ in x.split('+')]))"
   ]
  },
  {
   "cell_type": "code",
   "execution_count": 19,
   "metadata": {},
   "outputs": [
    {
     "data": {
      "text/plain": [
       "control\n",
       "stimulated    602\n",
       "ctrl           12\n",
       "Name: count, dtype: int64"
      ]
     },
     "execution_count": 19,
     "metadata": {},
     "output_type": "execute_result"
    }
   ],
   "source": [
    "adata.obs['control'].value_counts()"
   ]
  },
  {
   "cell_type": "code",
   "execution_count": 10,
   "metadata": {},
   "outputs": [
    {
     "name": "stderr",
     "output_type": "stream",
     "text": [
      "100%|██████████| 614/614 [00:00<00:00, 89086.16it/s]\n",
      "100%|██████████| 614/614 [00:00<00:00, 1384571.32it/s]\n"
     ]
    },
    {
     "ename": "KeyError",
     "evalue": "'cov_cond'",
     "output_type": "error",
     "traceback": [
      "\u001b[0;31m---------------------------------------------------------------------------\u001b[0m",
      "\u001b[0;31mKeyError\u001b[0m                                  Traceback (most recent call last)",
      "File \u001b[0;32m~/.local/lib/python3.10/site-packages/pandas/core/indexes/base.py:3790\u001b[0m, in \u001b[0;36mIndex.get_loc\u001b[0;34m(self, key)\u001b[0m\n\u001b[1;32m   3789\u001b[0m \u001b[39mtry\u001b[39;00m:\n\u001b[0;32m-> 3790\u001b[0m     \u001b[39mreturn\u001b[39;00m \u001b[39mself\u001b[39;49m\u001b[39m.\u001b[39;49m_engine\u001b[39m.\u001b[39;49mget_loc(casted_key)\n\u001b[1;32m   3791\u001b[0m \u001b[39mexcept\u001b[39;00m \u001b[39mKeyError\u001b[39;00m \u001b[39mas\u001b[39;00m err:\n",
      "File \u001b[0;32mindex.pyx:152\u001b[0m, in \u001b[0;36mpandas._libs.index.IndexEngine.get_loc\u001b[0;34m()\u001b[0m\n",
      "File \u001b[0;32mindex.pyx:181\u001b[0m, in \u001b[0;36mpandas._libs.index.IndexEngine.get_loc\u001b[0;34m()\u001b[0m\n",
      "File \u001b[0;32mpandas/_libs/hashtable_class_helper.pxi:7080\u001b[0m, in \u001b[0;36mpandas._libs.hashtable.PyObjectHashTable.get_item\u001b[0;34m()\u001b[0m\n",
      "File \u001b[0;32mpandas/_libs/hashtable_class_helper.pxi:7088\u001b[0m, in \u001b[0;36mpandas._libs.hashtable.PyObjectHashTable.get_item\u001b[0;34m()\u001b[0m\n",
      "\u001b[0;31mKeyError\u001b[0m: 'cov_cond'",
      "\nThe above exception was the direct cause of the following exception:\n",
      "\u001b[0;31mKeyError\u001b[0m                                  Traceback (most recent call last)",
      "\u001b[1;32m/home/katerchen/Code/Competition_CPA.ipynb Cell 11\u001b[0m line \u001b[0;36m1\n\u001b[0;32m----> <a href='vscode-notebook-cell://wsl%2Bubuntu/home/katerchen/Code/Competition_CPA.ipynb#X13sdnNjb2RlLXJlbW90ZQ%3D%3D?line=0'>1</a>\u001b[0m cpa\u001b[39m.\u001b[39;49mCPA\u001b[39m.\u001b[39;49msetup_anndata(adata, \n\u001b[1;32m      <a href='vscode-notebook-cell://wsl%2Bubuntu/home/katerchen/Code/Competition_CPA.ipynb#X13sdnNjb2RlLXJlbW90ZQ%3D%3D?line=1'>2</a>\u001b[0m                       perturbation_key\u001b[39m=\u001b[39;49m\u001b[39m'\u001b[39;49m\u001b[39mcontrol\u001b[39;49m\u001b[39m'\u001b[39;49m,\n\u001b[1;32m      <a href='vscode-notebook-cell://wsl%2Bubuntu/home/katerchen/Code/Competition_CPA.ipynb#X13sdnNjb2RlLXJlbW90ZQ%3D%3D?line=2'>3</a>\u001b[0m                       control_group\u001b[39m=\u001b[39;49m\u001b[39m'\u001b[39;49m\u001b[39mctrl\u001b[39;49m\u001b[39m'\u001b[39;49m,\n\u001b[1;32m      <a href='vscode-notebook-cell://wsl%2Bubuntu/home/katerchen/Code/Competition_CPA.ipynb#X13sdnNjb2RlLXJlbW90ZQ%3D%3D?line=3'>4</a>\u001b[0m                       dosage_key\u001b[39m=\u001b[39;49m\u001b[39m'\u001b[39;49m\u001b[39mdose\u001b[39;49m\u001b[39m'\u001b[39;49m,\n\u001b[1;32m      <a href='vscode-notebook-cell://wsl%2Bubuntu/home/katerchen/Code/Competition_CPA.ipynb#X13sdnNjb2RlLXJlbW90ZQ%3D%3D?line=4'>5</a>\u001b[0m                       categorical_covariate_keys\u001b[39m=\u001b[39;49m[\u001b[39m'\u001b[39;49m\u001b[39mcell_type\u001b[39;49m\u001b[39m'\u001b[39;49m],\n\u001b[1;32m      <a href='vscode-notebook-cell://wsl%2Bubuntu/home/katerchen/Code/Competition_CPA.ipynb#X13sdnNjb2RlLXJlbW90ZQ%3D%3D?line=5'>6</a>\u001b[0m                       is_count_data\u001b[39m=\u001b[39;49m\u001b[39mFalse\u001b[39;49;00m,\n\u001b[1;32m      <a href='vscode-notebook-cell://wsl%2Bubuntu/home/katerchen/Code/Competition_CPA.ipynb#X13sdnNjb2RlLXJlbW90ZQ%3D%3D?line=6'>7</a>\u001b[0m                       deg_uns_key\u001b[39m=\u001b[39;49m\u001b[39m'\u001b[39;49m\u001b[39mrank_genes_groups_cov\u001b[39;49m\u001b[39m'\u001b[39;49m,\n\u001b[1;32m      <a href='vscode-notebook-cell://wsl%2Bubuntu/home/katerchen/Code/Competition_CPA.ipynb#X13sdnNjb2RlLXJlbW90ZQ%3D%3D?line=7'>8</a>\u001b[0m                       deg_uns_cat_key\u001b[39m=\u001b[39;49m\u001b[39m'\u001b[39;49m\u001b[39mcov_cond\u001b[39;49m\u001b[39m'\u001b[39;49m,\n\u001b[1;32m      <a href='vscode-notebook-cell://wsl%2Bubuntu/home/katerchen/Code/Competition_CPA.ipynb#X13sdnNjb2RlLXJlbW90ZQ%3D%3D?line=8'>9</a>\u001b[0m                       max_comb_len\u001b[39m=\u001b[39;49m\u001b[39m1\u001b[39;49m,\n\u001b[1;32m     <a href='vscode-notebook-cell://wsl%2Bubuntu/home/katerchen/Code/Competition_CPA.ipynb#X13sdnNjb2RlLXJlbW90ZQ%3D%3D?line=9'>10</a>\u001b[0m                      )\n",
      "File \u001b[0;32m~/.local/lib/python3.10/site-packages/cpa/_model.py:369\u001b[0m, in \u001b[0;36mCPA.setup_anndata\u001b[0;34m(cls, adata, perturbation_key, control_group, dosage_key, batch_key, layer, smiles_key, is_count_data, categorical_covariate_keys, deg_uns_key, deg_uns_cat_key, max_comb_len, **kwargs)\u001b[0m\n\u001b[1;32m    366\u001b[0m \u001b[39mif\u001b[39;00m deg_uns_key:\n\u001b[1;32m    367\u001b[0m     n_deg_r2 \u001b[39m=\u001b[39m kwargs\u001b[39m.\u001b[39mpop(\u001b[39m\"\u001b[39m\u001b[39mn_deg_r2\u001b[39m\u001b[39m\"\u001b[39m, \u001b[39m10\u001b[39m)\n\u001b[0;32m--> 369\u001b[0m     cov_cond_unique \u001b[39m=\u001b[39m np\u001b[39m.\u001b[39munique(adata\u001b[39m.\u001b[39;49mobs[deg_uns_cat_key]\u001b[39m.\u001b[39mastype(\u001b[39mstr\u001b[39m)\u001b[39m.\u001b[39mvalues)\n\u001b[1;32m    371\u001b[0m     cov_cond_map \u001b[39m=\u001b[39m {}\n\u001b[1;32m    372\u001b[0m     cov_cond_map_r2 \u001b[39m=\u001b[39m {}\n",
      "File \u001b[0;32m~/.local/lib/python3.10/site-packages/pandas/core/frame.py:3896\u001b[0m, in \u001b[0;36mDataFrame.__getitem__\u001b[0;34m(self, key)\u001b[0m\n\u001b[1;32m   3894\u001b[0m \u001b[39mif\u001b[39;00m \u001b[39mself\u001b[39m\u001b[39m.\u001b[39mcolumns\u001b[39m.\u001b[39mnlevels \u001b[39m>\u001b[39m \u001b[39m1\u001b[39m:\n\u001b[1;32m   3895\u001b[0m     \u001b[39mreturn\u001b[39;00m \u001b[39mself\u001b[39m\u001b[39m.\u001b[39m_getitem_multilevel(key)\n\u001b[0;32m-> 3896\u001b[0m indexer \u001b[39m=\u001b[39m \u001b[39mself\u001b[39;49m\u001b[39m.\u001b[39;49mcolumns\u001b[39m.\u001b[39;49mget_loc(key)\n\u001b[1;32m   3897\u001b[0m \u001b[39mif\u001b[39;00m is_integer(indexer):\n\u001b[1;32m   3898\u001b[0m     indexer \u001b[39m=\u001b[39m [indexer]\n",
      "File \u001b[0;32m~/.local/lib/python3.10/site-packages/pandas/core/indexes/base.py:3797\u001b[0m, in \u001b[0;36mIndex.get_loc\u001b[0;34m(self, key)\u001b[0m\n\u001b[1;32m   3792\u001b[0m     \u001b[39mif\u001b[39;00m \u001b[39misinstance\u001b[39m(casted_key, \u001b[39mslice\u001b[39m) \u001b[39mor\u001b[39;00m (\n\u001b[1;32m   3793\u001b[0m         \u001b[39misinstance\u001b[39m(casted_key, abc\u001b[39m.\u001b[39mIterable)\n\u001b[1;32m   3794\u001b[0m         \u001b[39mand\u001b[39;00m \u001b[39many\u001b[39m(\u001b[39misinstance\u001b[39m(x, \u001b[39mslice\u001b[39m) \u001b[39mfor\u001b[39;00m x \u001b[39min\u001b[39;00m casted_key)\n\u001b[1;32m   3795\u001b[0m     ):\n\u001b[1;32m   3796\u001b[0m         \u001b[39mraise\u001b[39;00m InvalidIndexError(key)\n\u001b[0;32m-> 3797\u001b[0m     \u001b[39mraise\u001b[39;00m \u001b[39mKeyError\u001b[39;00m(key) \u001b[39mfrom\u001b[39;00m \u001b[39merr\u001b[39;00m\n\u001b[1;32m   3798\u001b[0m \u001b[39mexcept\u001b[39;00m \u001b[39mTypeError\u001b[39;00m:\n\u001b[1;32m   3799\u001b[0m     \u001b[39m# If we have a listlike key, _check_indexing_error will raise\u001b[39;00m\n\u001b[1;32m   3800\u001b[0m     \u001b[39m#  InvalidIndexError. Otherwise we fall through and re-raise\u001b[39;00m\n\u001b[1;32m   3801\u001b[0m     \u001b[39m#  the TypeError.\u001b[39;00m\n\u001b[1;32m   3802\u001b[0m     \u001b[39mself\u001b[39m\u001b[39m.\u001b[39m_check_indexing_error(key)\n",
      "\u001b[0;31mKeyError\u001b[0m: 'cov_cond'"
     ]
    }
   ],
   "source": [
    "cpa.CPA.setup_anndata(adata, \n",
    "                      perturbation_key='control',\n",
    "                      control_group='ctrl',\n",
    "                      dosage_key='dose',\n",
    "                      categorical_covariate_keys=['cell_type'],\n",
    "                      is_count_data=False,\n",
    "                      deg_uns_key='rank_genes_groups_cov',\n",
    "                      deg_uns_cat_key='cov_cond',\n",
    "                      max_comb_len=1,\n",
    "                     )"
   ]
  },
  {
   "cell_type": "code",
   "execution_count": null,
   "metadata": {},
   "outputs": [],
   "source": [
    "model_params = {\n",
    "    \"n_latent\": 64,\n",
    "    \"recon_loss\": \"nb\",\n",
    "    \"doser_type\": \"linear\",\n",
    "    \"n_hidden_encoder\": 128,\n",
    "    \"n_layers_encoder\": 2,\n",
    "    \"n_hidden_decoder\": 512,\n",
    "    \"n_layers_decoder\": 2,\n",
    "    \"use_batch_norm_encoder\": True,\n",
    "    \"use_layer_norm_encoder\": False,\n",
    "    \"use_batch_norm_decoder\": False,\n",
    "    \"use_layer_norm_decoder\": True,\n",
    "    \"dropout_rate_encoder\": 0.0,\n",
    "    \"dropout_rate_decoder\": 0.1,\n",
    "    \"variational\": False,\n",
    "    \"seed\": 6977,\n",
    "}\n",
    "\n",
    "trainer_params = {\n",
    "    \"n_epochs_kl_warmup\": None,\n",
    "    \"n_epochs_pretrain_ae\": 30,\n",
    "    \"n_epochs_adv_warmup\": 50,\n",
    "    \"n_epochs_mixup_warmup\": 0,\n",
    "    \"mixup_alpha\": 0.0,\n",
    "    \"adv_steps\": None,\n",
    "    \"n_hidden_adv\": 64,\n",
    "    \"n_layers_adv\": 3,\n",
    "    \"use_batch_norm_adv\": True,\n",
    "    \"use_layer_norm_adv\": False,\n",
    "    \"dropout_rate_adv\": 0.3,\n",
    "    \"reg_adv\": 20.0,\n",
    "    \"pen_adv\": 5.0,\n",
    "    \"lr\": 0.0003,\n",
    "    \"wd\": 4e-07,\n",
    "    \"adv_lr\": 0.0003,\n",
    "    \"adv_wd\": 4e-07,\n",
    "    \"adv_loss\": \"cce\",\n",
    "    \"doser_lr\": 0.0003,\n",
    "    \"doser_wd\": 4e-07,\n",
    "    \"do_clip_grad\": True,\n",
    "    \"gradient_clip_value\": 1.0,\n",
    "    \"step_size_lr\": 10,\n",
    "}"
   ]
  },
  {
   "cell_type": "code",
   "execution_count": null,
   "metadata": {},
   "outputs": [],
   "source": [
    "model = cpa.CPA(de_train_exp=de_train_exp, \n",
    "                split_key='split_B',\n",
    "                train_split='train',\n",
    "                valid_split='valid',\n",
    "                test_split='ood',\n",
    "                **model_params,\n",
    "               )"
   ]
  }
 ],
 "metadata": {
  "kernelspec": {
   "display_name": "wsl_deep",
   "language": "python",
   "name": "python3"
  },
  "language_info": {
   "codemirror_mode": {
    "name": "ipython",
    "version": 3
   },
   "file_extension": ".py",
   "mimetype": "text/x-python",
   "name": "python",
   "nbconvert_exporter": "python",
   "pygments_lexer": "ipython3",
   "version": "3.10.13"
  },
  "orig_nbformat": 4
 },
 "nbformat": 4,
 "nbformat_minor": 2
}
